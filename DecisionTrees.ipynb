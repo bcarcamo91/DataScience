{
 "cells": [
  {
   "cell_type": "code",
   "execution_count": 2,
   "id": "b5c1d6e2-6f52-457b-b7ce-4eb030613c41",
   "metadata": {},
   "outputs": [
    {
     "ename": "SyntaxError",
     "evalue": "invalid syntax (2537601404.py, line 3)",
     "output_type": "error",
     "traceback": [
      "\u001b[1;36m  Cell \u001b[1;32mIn[2], line 3\u001b[1;36m\u001b[0m\n\u001b[1;33m    import scikit-learn as sklearn\u001b[0m\n\u001b[1;37m                 ^\u001b[0m\n\u001b[1;31mSyntaxError\u001b[0m\u001b[1;31m:\u001b[0m invalid syntax\n"
     ]
    }
   ],
   "source": [
    "import numpy as np\n",
    "import pandas as pd\n",
    "import scikit-learn as sklearn\n",
    "from sklearn.tree import DecisionTreeClassifier\n",
    "import sklearn.tree as tree\n",
    "\n",
    "#Assumed my_data is the dataframe\n",
    "X = my_data[['Age', 'Sex', 'BP', 'Cholesterol', 'Na_to_K']].values\n",
    "\n",
    "#SKLearn decision trees does not handle categorical variables\n",
    "#Categorical varaibles will need to be converted into numerical values using LabelEncoder\n",
    "\n",
    "from sklearn import preprocessing\n",
    "le_sex = preprocessing.LabelEncoder()\n",
    "le_sex.fit(['F', 'M'])\n",
    "x[:,1] = le_sex.transform(x[:, 1])\n",
    "\n",
    "le_BP = preprocesing.LabelEncoder()\n",
    "le_BP.fit(['LOW', 'NORMAL', 'HIGH'])\n",
    "x[:2, 2] = le_BP.transform(x[:, 2])\n",
    "\n",
    "#Now we fill the target varaible\n",
    "y = my_data[\"Drug\"]\n",
    "\n",
    "#Train test split\n",
    "from sklearn.model_selection import train_test_split\n",
    "X_trainset, X_testset, y_trainset, y_testset = train_test_split(X, y, test_size=0.3, random_state=3)\n",
    "\n",
    "#DecisionTreeClassifier modeling (called drugtree)\n",
    "#Specify criterion = \"entropy\" to see information gain of each node\n",
    "drugTree = DecisionTreeClassifier(criterion=\"entropy\", max_depth = 4)\n",
    "drugTree # it shows the default parameters\n",
    "\n",
    "#Fit the data with the training feature matrix x_trainset\n",
    "drugTree.fit(x_trainset, y_trainset)\n",
    "\n",
    "#Make a prediction\n",
    "predTree = drugTree.predict(X_testset)\n",
    "\n",
    "#Evaluating the decision tree model\n",
    "from sklearn import metrics\n",
    "import matplotlib.pyplot as plt\n",
    "print(\"DecisionTrees's Accuracy: \", metrics.accuracy_score(y_testset, predTree))\n",
    "\n",
    "#Visualization of a decision tree\n",
    "tree.plot_tree(drugTree)\n",
    "plt.show()"
   ]
  }
 ],
 "metadata": {
  "kernelspec": {
   "display_name": "Python 3 (ipykernel)",
   "language": "python",
   "name": "python3"
  },
  "language_info": {
   "codemirror_mode": {
    "name": "ipython",
    "version": 3
   },
   "file_extension": ".py",
   "mimetype": "text/x-python",
   "name": "python",
   "nbconvert_exporter": "python",
   "pygments_lexer": "ipython3",
   "version": "3.11.3"
  }
 },
 "nbformat": 4,
 "nbformat_minor": 5
}
