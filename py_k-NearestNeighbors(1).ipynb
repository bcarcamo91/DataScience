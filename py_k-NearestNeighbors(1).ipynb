{
 "cells": [
  {
   "cell_type": "markdown",
   "id": "eb235c0b-7b59-4304-8fc2-9518e3fbb5b9",
   "metadata": {},
   "source": [
    "## k-Nearest Neighbors"
   ]
  },
  {
   "cell_type": "markdown",
   "id": "f7e3cd4f-5fd8-43a3-a822-dc75a9b7512f",
   "metadata": {},
   "source": [
    "The kNN algorithm is a supervised machine learning model. That means it predicts a target variable using one or multiple independent variables. \n",
    "\n",
    "kNN Is a Supervised Learner for Both Classification and Regression\n",
    "\n",
    "Supervised machine learning algorithms can be split into two groups based on the type of target variable that they can predict:\n",
    "\n",
    "Classification is a prediction task with a categorical target variable. Classification models learn how to classify any new observation. This assigned class can be either right or wrong, not in between. A classic example of classification is the iris dataset, in which you use physical measurements of plants to predict their species. A famous algorithm that can be used for classification is logistic regression.\n",
    "\n",
    "Regression is a prediction task in which the target variable is numeric. A famous example of regression is the Housing Prices Challenge on Kaggle. In this machine learning contest, participants try to predict the sales prices of houses based on numerous independent variables."
   ]
  },
  {
   "cell_type": "markdown",
   "id": "5d990ba6-de5b-49d4-8780-f3783c29d8f7",
   "metadata": {},
   "source": [
    "## kNN Is Fast and Interpretable"
   ]
  },
  {
   "cell_type": "markdown",
   "id": "45c36b80-7a9d-48fc-b02a-d3ddf773e0b8",
   "metadata": {},
   "source": [
    "As a final criterion to characterize machine learning models, you need to take into account model complexity. Machine learning, and especially artificial intelligence, is currently blooming and is being used in many complicated tasks, such as understanding text, images, and speech, or for self-driving cars.\n",
    "\n",
    "More advanced and complex models like neural networks can probably learn anything that a k-Nearest Neighbors model can. After all, those advanced models are very strong learners. However, be aware that this complexity also has its price. In order to make the models fit to your prediction, you’ll generally spend much more time on development.\n",
    "\n",
    "You’ll also need much more data to fit a more complex model, and data is not always available. Last but not least, more complex models are more difficult for us humans to interpret, and sometimes this interpretation can be very valuable.\n",
    "\n",
    "This is where the force of the kNN model lies. It allows its users to understand and interpret what’s happening inside the model, and it’s very fast to develop. This makes kNN a great model for many machine learning use cases that don’t require highly complex techniques."
   ]
  },
  {
   "cell_type": "markdown",
   "id": "3570af0d-51c4-4c97-b24e-6a74aa27e992",
   "metadata": {},
   "source": [
    "## Drawbacks of KNN"
   ]
  },
  {
   "cell_type": "markdown",
   "id": "c9caf2f6-d499-4ca1-b3e7-5e0a10e57cc1",
   "metadata": {},
   "source": [
    "It’s only fair to also be honest about the drawbacks of the kNN algorithm. As touched upon before, the real drawback of kNN is its capacity to adapt to highly complex relationships between independent and dependent variables. kNN is less likely to perform well on advanced tasks like computer vision and natural language processing.\n",
    "\n",
    "You can try to push the performance of kNN as far as possible, potentially by adding other techniques from machine learning. At a certain point of complexity, though, kNN will probably be less effective than other models regardless of the way it was tuned."
   ]
  },
  {
   "cell_type": "markdown",
   "id": "1ce283f4-a3f0-4556-8bdd-c45235b92f2b",
   "metadata": {},
   "source": [
    "### Use kNN to predict the age of sea slugs"
   ]
  },
  {
   "cell_type": "markdown",
   "id": "933c70ae-31e6-4394-8e01-20831f252097",
   "metadata": {},
   "source": [
    "Problem statement: The age of an abalone can be found by cutting its shell and counting the number of rings on the shell. In the Abalone Dataset, you can find the age measurements of a large number of abalones along with a lot of other physical measurements.\n",
    "The goal of the project is to develop a model that can predict the age of an abalone based purely on the other physical measurements. This would allow researchers to estimate the abalone’s age without having to cut its shell and count the rings.\n",
    "You’ll be applying a kNN to find the closest prediction score possible."
   ]
  },
  {
   "cell_type": "code",
   "execution_count": 2,
   "id": "297159b7-3113-43ed-8ef8-2b7bb7ea7d95",
   "metadata": {
    "tags": []
   },
   "outputs": [],
   "source": [
    "import pandas as pd\n",
    "url = (\n",
    "\"https://archive.ics.uci.edu/ml/machine-learning-databases/abalone/abalone.data\")\n",
    "abalone = pd.read_csv(url, header=None)"
   ]
  },
  {
   "cell_type": "code",
   "execution_count": 4,
   "id": "8cd5d564-1a10-4dac-9677-51b54a73ad5e",
   "metadata": {
    "tags": []
   },
   "outputs": [],
   "source": [
    "abalone.columns = [\n",
    "    'Sex',\n",
    "    'Length',\n",
    "    'Diameter',\n",
    "    'Height',\n",
    "    'Whole weight',\n",
    "    'Shucked weight',\n",
    "    'Viscera weight',\n",
    "    'Shell weight',\n",
    "    'Rings',\n",
    "]"
   ]
  },
  {
   "cell_type": "code",
   "execution_count": 5,
   "id": "50d3f1a8-c319-4740-ad78-1b829c342350",
   "metadata": {
    "tags": []
   },
   "outputs": [],
   "source": [
    "abalone = abalone.drop('Sex', axis=1)"
   ]
  },
  {
   "cell_type": "code",
   "execution_count": 6,
   "id": "8ce2eadd-f66f-4232-a7ff-7bfc74159d5c",
   "metadata": {
    "tags": []
   },
   "outputs": [
    {
     "data": {
      "image/png": "[encoded data removed]",
      "text/plain": [
       "<Figure size 640x480 with 1 Axes>"
      ]
     },
     "metadata": {},
     "output_type": "display_data"
    }
   ],
   "source": [
    "#Descriptive Stats from the abalone dataset\n",
    "import matplotlib.pyplot as plt\n",
    "abalone['Rings'].hist(bins=15)\n",
    "plt.show()"
   ]
  },
  {
   "cell_type": "code",
   "execution_count": 7,
   "id": "e53d3cd0-86cc-4902-865c-f5ebddc81e52",
   "metadata": {
    "tags": []
   },
   "outputs": [
    {
     "data": {
      "text/plain": [
       "Length            0.556720\n",
       "Diameter          0.574660\n",
       "Height            0.557467\n",
       "Whole weight      0.540390\n",
       "Shucked weight    0.420884\n",
       "Viscera weight    0.503819\n",
       "Shell weight      0.627574\n",
       "Rings             1.000000\n",
       "Name: Rings, dtype: float64"
      ]
     },
     "execution_count": 7,
     "metadata": {},
     "output_type": "execute_result"
    }
   ],
   "source": [
    "correlation_matrix = abalone.corr()\n",
    "correlation_matrix['Rings']"
   ]
  },
  {
   "cell_type": "markdown",
   "id": "96d7b01f-5a4f-4a6c-a3b5-ce7d78ffada5",
   "metadata": {},
   "source": [
    "### Define 'Nearest' Using a Mathematical Definition of Distance"
   ]
  },
  {
   "cell_type": "markdown",
   "id": "51ace6c5-d5d1-4d00-949f-8ae0d7604160",
   "metadata": {},
   "source": [
    "<img src=\"https://robocrop.realpython.net/?url=https%3A//files.realpython.com/media/knn_pytagoras.78c35cf28a3d.png&w=1512&sig=5f87874a6658133f02d9a53fd5782363d1bb6dec\">"
   ]
  },
  {
   "cell_type": "markdown",
   "id": "7772c221-6897-4db0-9b2f-da4bcaa1b07d",
   "metadata": {},
   "source": [
    "In this picture, you see two data points: blue at (2,2) and green at (4,4). To compute the distance between them, you can start by adding two vectors. Vector a goes from point (4,2) to point (4,4), and vector b goes from point (4,2) to point (2,2). Their heads are indicated by the colored points. Note that they are at a 90 degree angle.\n",
    "\n",
    "The difference between these vectors is the vector c, which goes from the head of vector a to the head of vector b. The length of vector c represents the distance between your two data points.\n",
    "\n",
    "The length of a vector is called the norm. The norm is a positive value that indicates the magnitude of the vector. You can compute the norm of a vector using the Euclidean formula:\n",
    "Euclidean Distance"
   ]
  },
  {
   "cell_type": "code",
   "execution_count": 8,
   "id": "9b1cef83-65b5-4451-bc02-ef92a5d8c1a5",
   "metadata": {
    "tags": []
   },
   "outputs": [
    {
     "data": {
      "text/plain": [
       "2.8284271247461903"
      ]
     },
     "execution_count": 8,
     "metadata": {},
     "output_type": "execute_result"
    }
   ],
   "source": [
    "import numpy as np\n",
    "a = np.array([2, 2])\n",
    "b = np.array([4, 4])\n",
    "np.linalg.norm(a-b)"
   ]
  },
  {
   "cell_type": "code",
   "execution_count": 10,
   "id": "ed8dc295-25d7-42d4-a42c-5506f2ccdbad",
   "metadata": {
    "tags": []
   },
   "outputs": [],
   "source": [
    "#Find K-Nearest Neighors\n",
    "X = abalone.drop('Rings', axis=1)\n",
    "X = X.values\n",
    "y = abalone['Rings']\n",
    "y = y.values"
   ]
  },
  {
   "cell_type": "code",
   "execution_count": 12,
   "id": "f031db1a-5643-4f5a-a515-8cf54df0ce60",
   "metadata": {
    "tags": []
   },
   "outputs": [],
   "source": [
    "new_data_point = np.array([\n",
    "    0.569552,\n",
    "    0.446407,\n",
    "    0.154437,\n",
    "    1.016849,\n",
    "    0.439051,\n",
    "    0.222526,\n",
    "    0.291208\n",
    "])\n",
    "\n",
    "distances = np.linalg.norm(X - new_data_point, axis=1)"
   ]
  },
  {
   "cell_type": "code",
   "execution_count": 13,
   "id": "09a68dab-41d4-4e80-bd28-c60a59867a97",
   "metadata": {
    "tags": []
   },
   "outputs": [
    {
     "data": {
      "text/plain": [
       "array([4045, 1902, 1644], dtype=int64)"
      ]
     },
     "execution_count": 13,
     "metadata": {},
     "output_type": "execute_result"
    }
   ],
   "source": [
    "k = 3\n",
    "nearest_neighbor_ids = distances.argsort()[:k]\n",
    "nearest_neighbor_ids"
   ]
  },
  {
   "cell_type": "markdown",
   "id": "e47efef7-d556-483f-9ed8-d5dea4371c51",
   "metadata": {},
   "source": [
    "## Voting or Averaging of Multiple Neighbors"
   ]
  },
  {
   "cell_type": "code",
   "execution_count": null,
   "id": "a64343bd-7917-470d-b2cd-16c45ce10095",
   "metadata": {
    "tags": []
   },
   "outputs": [],
   "source": [
    "nearest_neighbor_rings = y[nearest_neighbor_ids]\n",
    "nearest_neighbor_rings"
   ]
  },
  {
   "cell_type": "markdown",
   "id": "6587cc7a-9eaf-4624-9e97-2789d9a05ef1",
   "metadata": {},
   "source": [
    "## Average for Regression"
   ]
  },
  {
   "cell_type": "code",
   "execution_count": null,
   "id": "1b770006-d475-4590-b229-7461c811c165",
   "metadata": {},
   "outputs": [],
   "source": [
    "prediction = nearest_neighbor_rings.mean()"
   ]
  },
  {
   "cell_type": "markdown",
   "id": "32f962ef-1c4f-4644-baef-9e462a41c496",
   "metadata": {},
   "source": [
    "## Model for Classification"
   ]
  },
  {
   "cell_type": "code",
   "execution_count": null,
   "id": "fac09d42-4c42-4196-840c-457a840d0bc6",
   "metadata": {
    "tags": []
   },
   "outputs": [],
   "source": [
    "import scipy.stats\n",
    "class_neighbors = np.array(['A', 'B', 'B', 'C'])\n",
    "scipy.stats.mode(class_neighbors)"
   ]
  },
  {
   "cell_type": "markdown",
   "id": "6ac05da0-6f7b-4224-9c68-5b158b43cb94",
   "metadata": {},
   "source": [
    "# Fit kNN in Pythong Using scikit-learn"
   ]
  },
  {
   "cell_type": "code",
   "execution_count": null,
   "id": "19e47422-64d1-4a32-80a4-e13baa599669",
   "metadata": {},
   "outputs": [],
   "source": [
    "from sklearn.model_selection import train_test_split\n",
    "X_train, X_test, y_train, y_test = train_test_split(\n",
    "    X, y, test_size=0.2, random_state = 12345\n",
    ")\n",
    "\n",
    "#Test size = 0.2 meanst hat 80 percent will be training data\n",
    "\n",
    "from sklearn.neighgbors import KNeighborsRegressor\n",
    "knn_model = KNeighborsRegressor(n_neighbors=3)\n",
    "knn_model.fit(X_train, y_train)\n",
    "\n",
    "#Inspect model fit\n",
    "from sklearn.metrics import mean_squared error\n",
    "from math import sqrt\n",
    "train_preds = knn_model.predict(X_train)\n",
    "mse = mean_squared_error(y_train, train_preds)\n",
    "rmse = sqrt(mse)\n",
    "mse\n",
    "\n",
    "test_preds = knn_model.predict(X_test)\n",
    "mse = mean_squared_error(y_test, test_preds)\n",
    "rmse = sqrtr(mse)\n",
    "rmse"
   ]
  },
  {
   "cell_type": "code",
   "execution_count": null,
   "id": "36547808-45c5-4b10-8ebc-e8734592a4a9",
   "metadata": {
    "tags": []
   },
   "outputs": [],
   "source": [
    "# Plotting the Fit of your model\n",
    "import seaborn as sns\n",
    "cmap = sns.chubelix_palette(as_cmap=True)\n",
    "f, ax  = plt.subplots()\n",
    "points = ax.scatter(\n",
    "    X_test[:, 0], X_test[:, 1], c=test_preds, s=50, cmap=cmap\n",
    ")\n",
    "f.colorbar(points)\n",
    "plt.show()"
   ]
  },
  {
   "cell_type": "markdown",
   "id": "cebff427-b19c-497c-88a6-a2f7da0e1a38",
   "metadata": {},
   "source": [
    "## Tune and Optimize kNN in Python using sci-kit learn\n",
    "\n",
    "There are numerous ways you can improve your predictive score. Some improvements could be made by working on the input data using data wrangling, but in this tutorial, the focus is on the kNN algorithm. Next, you’ll look at ways to improve the algorithm part of the modeling pipeline.\n",
    "Improving kNN Performances in scikit-learn Using GridSearchCV\n",
    "\n",
    "Until now, you’ve always worked with k=3 in the kNN algorithm, but the best value for k is something that you need to find empirically for each dataset.\n",
    "\n",
    "When you use few neighbors, you have a prediction that will be much more variable than when you use more neighbors:\n",
    "\n",
    "If you use one neighbor only, the prediction can strongly change from one point to the other. When you think about your own neighbors, one may be quite different from the others. If you lived next to an outlier, your 1-NN prediction would be wrong.\n",
    "\n",
    "If you have multiple data points, the impact of one extremely different neighbor will be much less.\n",
    "\n",
    "If you use too many neighbors, the prediction of each point risks being very close. Let’s say that you use all neighbors for a prediction. In that case, every prediction would be the same.\n",
    "\n",
    "To find the best value for k, you’re going to use a tool called <b><u>GridSearchCV</u></b>. This is a tool that is often used for tuning hyperparameters of machine learning models. In your case, it will help by automatically finding the best value of k for your dataset.\n",
    "\n",
    "GridSearchCV is available in scikit-learn, and it has the benefit of being used in almost the exact same way as the scikit-learn models:"
   ]
  },
  {
   "cell_type": "code",
   "execution_count": null,
   "id": "bf1135c9-1d67-4e1d-a93c-8241a718f3dd",
   "metadata": {
    "tags": []
   },
   "outputs": [],
   "source": [
    "from sklearn.model_selection import GridSearchCV\n",
    "parameters = {'n_neighbors': range(1, 50)}\n",
    "gridsearch = GridSearchCV(KNeighborsRegressor(), parameters)\n",
    "gridsearch.fit(X_train, y_train)"
   ]
  },
  {
   "cell_type": "markdown",
   "id": "5766608b-47eb-4cb8-878a-2fbe4245f953",
   "metadata": {},
   "source": [
    "Here, you use GridSearchCV to fit the model. In short, GridSearchCV repeatedly fits kNN regressors on a part of the data and tests the performances on the remaining part of the data. Doing this repeatedly will yield a reliable estimate of the predictive performance of each of the values for k. In this example, you test the values from 1 to 50.\n",
    "\n",
    "In the end, it will retain the best performing value of k, which you can access with .best_params_:"
   ]
  },
  {
   "cell_type": "code",
   "execution_count": null,
   "id": "14cba2e4-4862-48e1-aaed-c6bf1179fa07",
   "metadata": {},
   "outputs": [],
   "source": [
    "gridsearch.best_params_"
   ]
  },
  {
   "cell_type": "markdown",
   "id": "2fd1d654-b501-4e31-9053-d7695a06f64e",
   "metadata": {},
   "source": [
    "In this code, you print the parameters that have the lowest error score. With .best_params_, you can see that choosing 25 as value for k will yield the best predictive performance. Now that you know what the best value of k is, you can see how it affects your train and test performances:"
   ]
  },
  {
   "cell_type": "code",
   "execution_count": null,
   "id": "66a0cc38-ea47-4a18-b1f9-4d9187580ed0",
   "metadata": {},
   "outputs": [],
   "source": [
    "train_preds_grid = gridsearch.predict(X_train)\n",
    "train_mse = mean_squared_error(y_train, train_preds_grid)\n",
    "train_rmse = sqrt(train_mse)\n",
    "test_preds_grid = gridsearch.predict(X_test)\n",
    "test_mse = mean_squared_error(y_test, test_preds_grid)\n",
    "test_rmse = sqrt(test_mse)\n",
    "train_rmse"
   ]
  },
  {
   "cell_type": "markdown",
   "id": "c632cc48-d08c-44c2-9e6e-e549518254a1",
   "metadata": {},
   "source": [
    "## Adding Weight Average of Neighbors based on Distance"
   ]
  },
  {
   "cell_type": "markdown",
   "id": "c3c9e376-4b36-4037-9765-f267b64c4333",
   "metadata": {},
   "source": [
    "Using GridSearchCV, you reduced the test RMSE from 2.37 to 2.17. In this section, you’ll see how to improve the performances even more.\n",
    "\n",
    "Below, you’ll test whether the performance of your model will be any better when predicting using a weighted average instead of a regular average. This means that neighbors that are further away will less strongly influence the prediction.\n",
    "\n",
    "You can do this by setting the weights hyperparameter to the value of \"distance\". However, setting this weighted average could have an impact on the optimal value of k. Therefore, you’ll again use GridSearchCV to tell you which type of averaging you should use:"
   ]
  },
  {
   "cell_type": "code",
   "execution_count": null,
   "id": "7efbe031-27f7-49b0-8a74-04c27a7e9df7",
   "metadata": {},
   "outputs": [],
   "source": [
    "parameters = {\n",
    "    'n_neighbors': range(1, 50),\n",
    "    'weights': ['uniform', 'distance']\n",
    "    \n",
    "}\n",
    "gridsearch = GrfidSearchCV(KNeighborsregressor(), parameters)\n",
    "gridsearch.fit(X_train, y_train)\n",
    "gridsearch.best_params_\n",
    "test_preds_grid = gridsearch.predict(X_test)\n",
    "test_mse = mean_squared_error(y_test, test_preds_grid)\n",
    "test_rmse = sqrt(test_mse)\n",
    "test_rmse)"
   ]
  },
  {
   "cell_type": "markdown",
   "id": "500bd680-7130-45e6-b0c6-65d94f99953b",
   "metadata": {},
   "source": [
    "Here, you test whether it makes sense to use a different weighing using your GridSearchCV. Applying a weighted average rather than a regular average has reduced the prediction error from 2.17 to 2.1634. Although this isn’t a huge improvement, it’s still better, which makes it worth it."
   ]
  },
  {
   "cell_type": "markdown",
   "id": "07d16450-9e3e-44b9-88e5-c47738c9ee25",
   "metadata": {},
   "source": [
    "## Further Improving on kNN in scikit-learn with bagging"
   ]
  },
  {
   "cell_type": "markdown",
   "id": "e9a93deb-3fe3-4bee-871b-382eb3f4f26e",
   "metadata": {},
   "source": [
    "As a third step for kNN tuning, you can use bagging. Bagging is an ensemble method, or a method that takes a relatively straightforward machine learning model and fits a large number of those models with slight variations in each fit. Bagging often uses decision trees, but kNN works perfectly as well.\n",
    "\n",
    "Ensemble methods are often more performant than single models. One model can be wrong from time to time, but the average of a hundred models should be wrong less often. The errors of different individual models are likely to average each other out, and the resulting prediction will be less variable.\n",
    "\n",
    "You can use scikit-learn to apply bagging to your kNN regression using the following steps. First, create the KNeighborsRegressor with the best choices for k and weights that you got from GridSearchCV:"
   ]
  },
  {
   "cell_type": "code",
   "execution_count": null,
   "id": "3ceef928-8431-467e-8f35-d5513fe044bb",
   "metadata": {},
   "outputs": [],
   "source": [
    "best_k = gridsearch.best_params_['n_neighbors']\n",
    "best_weights = gridsearch.best_params_['weights']\n",
    "bagged_knn = KNeighborsRegress(\n",
    "    n_neighbors = best_k, weights = best_weights\n",
    ")\n",
    "\n",
    "#Then import the BaggingRegressor class rom scikit-learn and create a new instance with 100 estimators using the bagged_knn model:\n",
    "\n",
    "from sklearn.ensemble import BaggingRegressor\n",
    "bagging_model = BaggingRegressor(bagged_knn, n_estimators = 100)\n",
    "\n",
    "#Now you can make a prediction and calculate the RMSE to see if it improved\n",
    "test_preds_grid = bagging_model.predict(X_test)\n",
    "test_mse = mean_squared_error(y_test, test_preds_grid)\n",
    "test_rmse = sqrt(test_mse)\n",
    "test_rmse"
   ]
  },
  {
   "cell_type": "markdown",
   "id": "dd3a51ff-a35b-4be8-b08f-a83d20a557ae",
   "metadata": {},
   "source": [
    "## Comparison of the Four Models"
   ]
  },
  {
   "cell_type": "markdown",
   "id": "1a776b87-b791-42a8-9fe1-fbba0b4494e4",
   "metadata": {},
   "source": [
    "Model/Error\n",
    "- Arbitrary k = 2.37\n",
    "- GridSearchCV for k = 2.17\n",
    "- GridSearchcv for k and weights = 2.1634\n",
    "- Bagging and GridSearchCV = 2.1616"
   ]
  },
  {
   "cell_type": "markdown",
   "id": "94a7acba-4e8d-4287-8a12-056f668e9bb1",
   "metadata": {
    "tags": []
   },
   "source": [
    "<src img='https://files.realpython.com/media/first_scatter.dd9e9b8454b9.png'>"
   ]
  }
 ],
 "metadata": {
  "kernelspec": {
   "display_name": "Python 3 (ipykernel)",
   "language": "python",
   "name": "python3"
  },
  "language_info": {
   "codemirror_mode": {
    "name": "ipython",
    "version": 3
   },
   "file_extension": ".py",
   "mimetype": "text/x-python",
   "name": "python",
   "nbconvert_exporter": "python",
   "pygments_lexer": "ipython3",
   "version": "3.11.3"
  }
 },
 "nbformat": 4,
 "nbformat_minor": 5
}
